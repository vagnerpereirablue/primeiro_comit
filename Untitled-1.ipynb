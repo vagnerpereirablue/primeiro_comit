{
 "cells": [
  {
   "cell_type": "code",
   "execution_count": 239,
   "metadata": {},
   "outputs": [],
   "source": [
    "import pandas as pd "
   ]
  },
  {
   "cell_type": "code",
   "execution_count": 251,
   "metadata": {},
   "outputs": [],
   "source": [
    "df_limpo = pd.read_csv('dados_telemetrias.csv')"
   ]
  },
  {
   "cell_type": "code",
   "execution_count": 252,
   "metadata": {},
   "outputs": [
    {
     "data": {
      "text/html": [
       "<div>\n",
       "<style scoped>\n",
       "    .dataframe tbody tr th:only-of-type {\n",
       "        vertical-align: middle;\n",
       "    }\n",
       "\n",
       "    .dataframe tbody tr th {\n",
       "        vertical-align: top;\n",
       "    }\n",
       "\n",
       "    .dataframe thead th {\n",
       "        text-align: right;\n",
       "    }\n",
       "</style>\n",
       "<table border=\"1\" class=\"dataframe\">\n",
       "  <thead>\n",
       "    <tr style=\"text-align: right;\">\n",
       "      <th></th>\n",
       "      <th>CD_DISPOSITIVO</th>\n",
       "      <th>CD_NOME_TAG</th>\n",
       "      <th>VALUE</th>\n",
       "      <th>DT_MODBUS</th>\n",
       "      <th>ALARM</th>\n",
       "      <th>NM_EQUIPAMENTO</th>\n",
       "      <th>DT_MODBUS_CONV</th>\n",
       "    </tr>\n",
       "  </thead>\n",
       "  <tbody>\n",
       "    <tr>\n",
       "      <th>0</th>\n",
       "      <td>ERPRC5201</td>\n",
       "      <td>ERP_ERPRC5201_BATTERY_REMAINING_CAPACITY</td>\n",
       "      <td>77</td>\n",
       "      <td>1658015230</td>\n",
       "      <td>False</td>\n",
       "      <td>CDC</td>\n",
       "      <td>2022-07-16T23:47:12.000+0000</td>\n",
       "    </tr>\n",
       "    <tr>\n",
       "      <th>1</th>\n",
       "      <td>ERPCA55507</td>\n",
       "      <td>ERP_ERPCA55507_BATTERY_REMAINING_CAPACITY</td>\n",
       "      <td>75</td>\n",
       "      <td>1658015740</td>\n",
       "      <td>False</td>\n",
       "      <td>CDC</td>\n",
       "      <td>2022-07-16T23:55:44.000+0000</td>\n",
       "    </tr>\n",
       "    <tr>\n",
       "      <th>2</th>\n",
       "      <td>CRM4000813490</td>\n",
       "      <td>CRM_CRM4000813490_BATTERY_REMAINING_CAPACITY</td>\n",
       "      <td>71</td>\n",
       "      <td>1658015870</td>\n",
       "      <td>False</td>\n",
       "      <td>CDC</td>\n",
       "      <td>2022-07-16T23:57:52.000+0000</td>\n",
       "    </tr>\n",
       "    <tr>\n",
       "      <th>3</th>\n",
       "      <td>CRM518097</td>\n",
       "      <td>CRM_CRM518097_BATTERY_REMAINING_CAPACITY</td>\n",
       "      <td>75</td>\n",
       "      <td>1658016000</td>\n",
       "      <td>False</td>\n",
       "      <td>CDC</td>\n",
       "      <td>2022-07-17T00:00:00.000+0000</td>\n",
       "    </tr>\n",
       "    <tr>\n",
       "      <th>4</th>\n",
       "      <td>CRM516186</td>\n",
       "      <td>CRM_CRM516186_BATTERY_REMAINING_CAPACITY</td>\n",
       "      <td>73</td>\n",
       "      <td>1658016000</td>\n",
       "      <td>False</td>\n",
       "      <td>CDC</td>\n",
       "      <td>2022-07-17T00:00:00.000+0000</td>\n",
       "    </tr>\n",
       "    <tr>\n",
       "      <th>5</th>\n",
       "      <td>ERPID15502</td>\n",
       "      <td>ERP_ERPID15502_BATTERY_REMAINING_CAPACITY</td>\n",
       "      <td>41</td>\n",
       "      <td>1658016640</td>\n",
       "      <td>False</td>\n",
       "      <td>CDC</td>\n",
       "      <td>2022-07-17T00:10:40.000+0000</td>\n",
       "    </tr>\n",
       "    <tr>\n",
       "      <th>6</th>\n",
       "      <td>CRM653068</td>\n",
       "      <td>CRM_CRM653068_BATTERY_REMAINING_CAPACITY</td>\n",
       "      <td>71</td>\n",
       "      <td>1658016900</td>\n",
       "      <td>False</td>\n",
       "      <td>CDC</td>\n",
       "      <td>2022-07-17T00:14:56.000+0000</td>\n",
       "    </tr>\n",
       "    <tr>\n",
       "      <th>7</th>\n",
       "      <td>ERPCO5201</td>\n",
       "      <td>ERP_ERPCO5201_BATTERY_REMAINING_CAPACITY</td>\n",
       "      <td>58</td>\n",
       "      <td>1658016900</td>\n",
       "      <td>False</td>\n",
       "      <td>CDC</td>\n",
       "      <td>2022-07-17T00:14:56.000+0000</td>\n",
       "    </tr>\n",
       "    <tr>\n",
       "      <th>8</th>\n",
       "      <td>CRM684433</td>\n",
       "      <td>CRM_CRM684433_BATTERY_REMAINING_CAPACITY</td>\n",
       "      <td>77</td>\n",
       "      <td>1658016900</td>\n",
       "      <td>True</td>\n",
       "      <td>CDC</td>\n",
       "      <td>2022-07-17T00:14:56.000+0000</td>\n",
       "    </tr>\n",
       "    <tr>\n",
       "      <th>9</th>\n",
       "      <td>CRM4000545020</td>\n",
       "      <td>CRM_CRM4000545020_BATTERY_REMAINING_CAPACITY</td>\n",
       "      <td>73</td>\n",
       "      <td>1658017020</td>\n",
       "      <td>False</td>\n",
       "      <td>CDC</td>\n",
       "      <td>2022-07-17T00:17:04.000+0000</td>\n",
       "    </tr>\n",
       "  </tbody>\n",
       "</table>\n",
       "</div>"
      ],
      "text/plain": [
       "  CD_DISPOSITIVO                                   CD_NOME_TAG  VALUE  \\\n",
       "0      ERPRC5201      ERP_ERPRC5201_BATTERY_REMAINING_CAPACITY     77   \n",
       "1     ERPCA55507     ERP_ERPCA55507_BATTERY_REMAINING_CAPACITY     75   \n",
       "2  CRM4000813490  CRM_CRM4000813490_BATTERY_REMAINING_CAPACITY     71   \n",
       "3      CRM518097      CRM_CRM518097_BATTERY_REMAINING_CAPACITY     75   \n",
       "4      CRM516186      CRM_CRM516186_BATTERY_REMAINING_CAPACITY     73   \n",
       "5     ERPID15502     ERP_ERPID15502_BATTERY_REMAINING_CAPACITY     41   \n",
       "6      CRM653068      CRM_CRM653068_BATTERY_REMAINING_CAPACITY     71   \n",
       "7      ERPCO5201      ERP_ERPCO5201_BATTERY_REMAINING_CAPACITY     58   \n",
       "8      CRM684433      CRM_CRM684433_BATTERY_REMAINING_CAPACITY     77   \n",
       "9  CRM4000545020  CRM_CRM4000545020_BATTERY_REMAINING_CAPACITY     73   \n",
       "\n",
       "    DT_MODBUS  ALARM NM_EQUIPAMENTO                DT_MODBUS_CONV  \n",
       "0  1658015230  False            CDC  2022-07-16T23:47:12.000+0000  \n",
       "1  1658015740  False            CDC  2022-07-16T23:55:44.000+0000  \n",
       "2  1658015870  False            CDC  2022-07-16T23:57:52.000+0000  \n",
       "3  1658016000  False            CDC  2022-07-17T00:00:00.000+0000  \n",
       "4  1658016000  False            CDC  2022-07-17T00:00:00.000+0000  \n",
       "5  1658016640  False            CDC  2022-07-17T00:10:40.000+0000  \n",
       "6  1658016900  False            CDC  2022-07-17T00:14:56.000+0000  \n",
       "7  1658016900  False            CDC  2022-07-17T00:14:56.000+0000  \n",
       "8  1658016900   True            CDC  2022-07-17T00:14:56.000+0000  \n",
       "9  1658017020  False            CDC  2022-07-17T00:17:04.000+0000  "
      ]
     },
     "execution_count": 252,
     "metadata": {},
     "output_type": "execute_result"
    }
   ],
   "source": [
    "df_limpo.head(10)"
   ]
  },
  {
   "cell_type": "code",
   "execution_count": 253,
   "metadata": {},
   "outputs": [
    {
     "data": {
      "text/plain": [
       "pandas.core.frame.DataFrame"
      ]
     },
     "execution_count": 253,
     "metadata": {},
     "output_type": "execute_result"
    }
   ],
   "source": [
    "type(df_limpo)"
   ]
  },
  {
   "cell_type": "code",
   "execution_count": 254,
   "metadata": {},
   "outputs": [
    {
     "data": {
      "text/plain": [
       "<bound method DataFrame.info of     CD_DISPOSITIVO                                   CD_NOME_TAG  VALUE  \\\n",
       "0        ERPRC5201      ERP_ERPRC5201_BATTERY_REMAINING_CAPACITY     77   \n",
       "1       ERPCA55507     ERP_ERPCA55507_BATTERY_REMAINING_CAPACITY     75   \n",
       "2    CRM4000813490  CRM_CRM4000813490_BATTERY_REMAINING_CAPACITY     71   \n",
       "3        CRM518097      CRM_CRM518097_BATTERY_REMAINING_CAPACITY     75   \n",
       "4        CRM516186      CRM_CRM516186_BATTERY_REMAINING_CAPACITY     73   \n",
       "..             ...                                           ...    ...   \n",
       "995  CRM4000826488  CRM_CRM4000826488_BATTERY_REMAINING_CAPACITY     99   \n",
       "996     ERPPR15506     ERP_ERPPR15506_BATTERY_REMAINING_CAPACITY     99   \n",
       "997  CRM4000181733  CRM_CRM4000181733_BATTERY_REMAINING_CAPACITY     99   \n",
       "998      CRM937354      CRM_CRM937354_BATTERY_REMAINING_CAPACITY     87   \n",
       "999     ERPJU15502     ERP_ERPJU15502_BATTERY_REMAINING_CAPACITY     99   \n",
       "\n",
       "      DT_MODBUS  ALARM NM_EQUIPAMENTO                DT_MODBUS_CONV  \n",
       "0    1658015230  False            CDC  2022-07-16T23:47:12.000+0000  \n",
       "1    1658015740  False            CDC  2022-07-16T23:55:44.000+0000  \n",
       "2    1658015870  False            CDC  2022-07-16T23:57:52.000+0000  \n",
       "3    1658016000  False            CDC  2022-07-17T00:00:00.000+0000  \n",
       "4    1658016000  False            CDC  2022-07-17T00:00:00.000+0000  \n",
       "..          ...    ...            ...                           ...  \n",
       "995  1658173820  False            CDC  2022-07-18T19:50:24.000+0000  \n",
       "996  1658173950  False            CDC  2022-07-18T19:52:32.000+0000  \n",
       "997  1658173950  False            CDC  2022-07-18T19:52:32.000+0000  \n",
       "998  1658174210  False            CDC  2022-07-18T19:56:48.000+0000  \n",
       "999  1658174850  False            CDC  2022-07-18T20:07:28.000+0000  \n",
       "\n",
       "[1000 rows x 7 columns]>"
      ]
     },
     "execution_count": 254,
     "metadata": {},
     "output_type": "execute_result"
    }
   ],
   "source": [
    "df_limpo.info"
   ]
  },
  {
   "cell_type": "code",
   "execution_count": 255,
   "metadata": {},
   "outputs": [
    {
     "ename": "KeyError",
     "evalue": "\"None of ['Date'] are in the columns\"",
     "output_type": "error",
     "traceback": [
      "\u001b[1;31m---------------------------------------------------------------------------\u001b[0m",
      "\u001b[1;31mKeyError\u001b[0m                                  Traceback (most recent call last)",
      "\u001b[1;32mUntitled-1.ipynb Cell 6'\u001b[0m in \u001b[0;36m<cell line: 1>\u001b[1;34m()\u001b[0m\n\u001b[1;32m----> <a href='vscode-notebook-cell:Untitled-1.ipynb?jupyter-notebook#ch0000025untitled?line=0'>1</a>\u001b[0m df_limpo\u001b[39m.\u001b[39;49mset_index(\u001b[39m'\u001b[39;49m\u001b[39mDate\u001b[39;49m\u001b[39m'\u001b[39;49m)\n",
      "File \u001b[1;32mc:\\Users\\BlueShift\\anaconda3.1\\lib\\site-packages\\pandas\\util\\_decorators.py:311\u001b[0m, in \u001b[0;36mdeprecate_nonkeyword_arguments.<locals>.decorate.<locals>.wrapper\u001b[1;34m(*args, **kwargs)\u001b[0m\n\u001b[0;32m    <a href='file:///c%3A/Users/BlueShift/anaconda3.1/lib/site-packages/pandas/util/_decorators.py?line=304'>305</a>\u001b[0m \u001b[39mif\u001b[39;00m \u001b[39mlen\u001b[39m(args) \u001b[39m>\u001b[39m num_allow_args:\n\u001b[0;32m    <a href='file:///c%3A/Users/BlueShift/anaconda3.1/lib/site-packages/pandas/util/_decorators.py?line=305'>306</a>\u001b[0m     warnings\u001b[39m.\u001b[39mwarn(\n\u001b[0;32m    <a href='file:///c%3A/Users/BlueShift/anaconda3.1/lib/site-packages/pandas/util/_decorators.py?line=306'>307</a>\u001b[0m         msg\u001b[39m.\u001b[39mformat(arguments\u001b[39m=\u001b[39marguments),\n\u001b[0;32m    <a href='file:///c%3A/Users/BlueShift/anaconda3.1/lib/site-packages/pandas/util/_decorators.py?line=307'>308</a>\u001b[0m         \u001b[39mFutureWarning\u001b[39;00m,\n\u001b[0;32m    <a href='file:///c%3A/Users/BlueShift/anaconda3.1/lib/site-packages/pandas/util/_decorators.py?line=308'>309</a>\u001b[0m         stacklevel\u001b[39m=\u001b[39mstacklevel,\n\u001b[0;32m    <a href='file:///c%3A/Users/BlueShift/anaconda3.1/lib/site-packages/pandas/util/_decorators.py?line=309'>310</a>\u001b[0m     )\n\u001b[1;32m--> <a href='file:///c%3A/Users/BlueShift/anaconda3.1/lib/site-packages/pandas/util/_decorators.py?line=310'>311</a>\u001b[0m \u001b[39mreturn\u001b[39;00m func(\u001b[39m*\u001b[39margs, \u001b[39m*\u001b[39m\u001b[39m*\u001b[39mkwargs)\n",
      "File \u001b[1;32mc:\\Users\\BlueShift\\anaconda3.1\\lib\\site-packages\\pandas\\core\\frame.py:5494\u001b[0m, in \u001b[0;36mDataFrame.set_index\u001b[1;34m(self, keys, drop, append, inplace, verify_integrity)\u001b[0m\n\u001b[0;32m   <a href='file:///c%3A/Users/BlueShift/anaconda3.1/lib/site-packages/pandas/core/frame.py?line=5490'>5491</a>\u001b[0m                 missing\u001b[39m.\u001b[39mappend(col)\n\u001b[0;32m   <a href='file:///c%3A/Users/BlueShift/anaconda3.1/lib/site-packages/pandas/core/frame.py?line=5492'>5493</a>\u001b[0m \u001b[39mif\u001b[39;00m missing:\n\u001b[1;32m-> <a href='file:///c%3A/Users/BlueShift/anaconda3.1/lib/site-packages/pandas/core/frame.py?line=5493'>5494</a>\u001b[0m     \u001b[39mraise\u001b[39;00m \u001b[39mKeyError\u001b[39;00m(\u001b[39mf\u001b[39m\u001b[39m\"\u001b[39m\u001b[39mNone of \u001b[39m\u001b[39m{\u001b[39;00mmissing\u001b[39m}\u001b[39;00m\u001b[39m are in the columns\u001b[39m\u001b[39m\"\u001b[39m)\n\u001b[0;32m   <a href='file:///c%3A/Users/BlueShift/anaconda3.1/lib/site-packages/pandas/core/frame.py?line=5495'>5496</a>\u001b[0m \u001b[39mif\u001b[39;00m inplace:\n\u001b[0;32m   <a href='file:///c%3A/Users/BlueShift/anaconda3.1/lib/site-packages/pandas/core/frame.py?line=5496'>5497</a>\u001b[0m     frame \u001b[39m=\u001b[39m \u001b[39mself\u001b[39m\n",
      "\u001b[1;31mKeyError\u001b[0m: \"None of ['Date'] are in the columns\""
     ]
    }
   ],
   "source": [
    "df_limpo.set_index('Date')"
   ]
  },
  {
   "cell_type": "code",
   "execution_count": 221,
   "metadata": {},
   "outputs": [
    {
     "data": {
      "text/plain": [
       "pandas.core.frame.DataFrame"
      ]
     },
     "execution_count": 221,
     "metadata": {},
     "output_type": "execute_result"
    }
   ],
   "source": [
    "type(df_teste)"
   ]
  },
  {
   "cell_type": "code",
   "execution_count": 222,
   "metadata": {},
   "outputs": [],
   "source": [
    "df_limpo = df_limpo.rename(columns={'Date':'ds','humid':'y'})"
   ]
  },
  {
   "cell_type": "code",
   "execution_count": 223,
   "metadata": {},
   "outputs": [
    {
     "data": {
      "text/html": [
       "<div>\n",
       "<style scoped>\n",
       "    .dataframe tbody tr th:only-of-type {\n",
       "        vertical-align: middle;\n",
       "    }\n",
       "\n",
       "    .dataframe tbody tr th {\n",
       "        vertical-align: top;\n",
       "    }\n",
       "\n",
       "    .dataframe thead th {\n",
       "        text-align: right;\n",
       "    }\n",
       "</style>\n",
       "<table border=\"1\" class=\"dataframe\">\n",
       "  <thead>\n",
       "    <tr style=\"text-align: right;\">\n",
       "      <th></th>\n",
       "      <th>ds</th>\n",
       "      <th>y</th>\n",
       "      <th>temp</th>\n",
       "      <th>presao</th>\n",
       "      <th>vazao</th>\n",
       "    </tr>\n",
       "  </thead>\n",
       "  <tbody>\n",
       "    <tr>\n",
       "      <th>0</th>\n",
       "      <td>2022-08-17 17:44:55.519689</td>\n",
       "      <td>61.9</td>\n",
       "      <td>26.0</td>\n",
       "      <td>7.811920001282856</td>\n",
       "      <td>1.7</td>\n",
       "    </tr>\n",
       "    <tr>\n",
       "      <th>1</th>\n",
       "      <td>2022-08-17 17:44:55.519689</td>\n",
       "      <td>61.9</td>\n",
       "      <td>26.0</td>\n",
       "      <td>8.774988673614423</td>\n",
       "      <td>0.8</td>\n",
       "    </tr>\n",
       "    <tr>\n",
       "      <th>2</th>\n",
       "      <td>2022-08-17 17:44:55.519689</td>\n",
       "      <td>61.9</td>\n",
       "      <td>26.0</td>\n",
       "      <td>7.805922797316667</td>\n",
       "      <td>0.8</td>\n",
       "    </tr>\n",
       "    <tr>\n",
       "      <th>3</th>\n",
       "      <td>2022-08-17 17:44:55.519689</td>\n",
       "      <td>61.9</td>\n",
       "      <td>29.0</td>\n",
       "      <td>8.487444697008018</td>\n",
       "      <td>0.8</td>\n",
       "    </tr>\n",
       "    <tr>\n",
       "      <th>4</th>\n",
       "      <td>2022-08-17 17:44:55.519689</td>\n",
       "      <td>68.4</td>\n",
       "      <td>26.0</td>\n",
       "      <td>8.676340781875457</td>\n",
       "      <td>0.8</td>\n",
       "    </tr>\n",
       "  </tbody>\n",
       "</table>\n",
       "</div>"
      ],
      "text/plain": [
       "                           ds     y  temp             presao vazao\n",
       "0  2022-08-17 17:44:55.519689  61.9  26.0  7.811920001282856   1.7\n",
       "1  2022-08-17 17:44:55.519689  61.9  26.0  8.774988673614423   0.8\n",
       "2  2022-08-17 17:44:55.519689  61.9  26.0  7.805922797316667   0.8\n",
       "3  2022-08-17 17:44:55.519689  61.9  29.0  8.487444697008018   0.8\n",
       "4  2022-08-17 17:44:55.519689  68.4  26.0  8.676340781875457   0.8"
      ]
     },
     "execution_count": 223,
     "metadata": {},
     "output_type": "execute_result"
    }
   ],
   "source": [
    "df_limpo.head()"
   ]
  },
  {
   "cell_type": "code",
   "execution_count": 224,
   "metadata": {},
   "outputs": [],
   "source": [
    "df_limpo['y']=pd.to_numeric(df_limpo['y'],errors='coerce')"
   ]
  },
  {
   "cell_type": "code",
   "execution_count": 225,
   "metadata": {},
   "outputs": [
    {
     "data": {
      "text/plain": [
       "(807, 5)"
      ]
     },
     "execution_count": 225,
     "metadata": {},
     "output_type": "execute_result"
    }
   ],
   "source": [
    "df_teste.shape"
   ]
  },
  {
   "cell_type": "code",
   "execution_count": 226,
   "metadata": {},
   "outputs": [
    {
     "data": {
      "text/plain": [
       "pandas.core.frame.DataFrame"
      ]
     },
     "execution_count": 226,
     "metadata": {},
     "output_type": "execute_result"
    }
   ],
   "source": [
    "type(df_limpo)"
   ]
  },
  {
   "cell_type": "code",
   "execution_count": 227,
   "metadata": {},
   "outputs": [],
   "source": [
    "from sklearn.model_selection import train_test_split\n",
    "from sklearn.metrics import mean_squared_error"
   ]
  },
  {
   "cell_type": "code",
   "execution_count": 228,
   "metadata": {},
   "outputs": [],
   "source": [
    "import pandas as pd \n",
    "import numpy as np \n",
    "from prophet import Prophet\n",
    "from datetime import datetime \n",
    "import csv \n",
    "import matplotlib.pyplot as plt"
   ]
  },
  {
   "cell_type": "code",
   "execution_count": 229,
   "metadata": {},
   "outputs": [],
   "source": [
    "df_limpo_treino , df_limpo_teste = train_test_split(df_limpo,test_size=0.35,shuffle=True)\n",
    "#df_limpo_treino , df_limpo_teste = train_test_split(df_limpo)"
   ]
  },
  {
   "cell_type": "code",
   "execution_count": 230,
   "metadata": {},
   "outputs": [
    {
     "ename": "ParserError",
     "evalue": "Unknown string format: Date",
     "output_type": "error",
     "traceback": [
      "\u001b[1;31m---------------------------------------------------------------------------\u001b[0m",
      "\u001b[1;31mTypeError\u001b[0m                                 Traceback (most recent call last)",
      "File \u001b[1;32mc:\\Users\\BlueShift\\anaconda3.1\\lib\\site-packages\\pandas\\core\\arrays\\datetimes.py:2211\u001b[0m, in \u001b[0;36mobjects_to_datetime64ns\u001b[1;34m(data, dayfirst, yearfirst, utc, errors, require_iso8601, allow_object, allow_mixed)\u001b[0m\n\u001b[0;32m   <a href='file:///c%3A/Users/BlueShift/anaconda3.1/lib/site-packages/pandas/core/arrays/datetimes.py?line=2209'>2210</a>\u001b[0m \u001b[39mtry\u001b[39;00m:\n\u001b[1;32m-> <a href='file:///c%3A/Users/BlueShift/anaconda3.1/lib/site-packages/pandas/core/arrays/datetimes.py?line=2210'>2211</a>\u001b[0m     values, tz_parsed \u001b[39m=\u001b[39m conversion\u001b[39m.\u001b[39;49mdatetime_to_datetime64(data\u001b[39m.\u001b[39;49mravel(\u001b[39m\"\u001b[39;49m\u001b[39mK\u001b[39;49m\u001b[39m\"\u001b[39;49m))\n\u001b[0;32m   <a href='file:///c%3A/Users/BlueShift/anaconda3.1/lib/site-packages/pandas/core/arrays/datetimes.py?line=2211'>2212</a>\u001b[0m     \u001b[39m# If tzaware, these values represent unix timestamps, so we\u001b[39;00m\n\u001b[0;32m   <a href='file:///c%3A/Users/BlueShift/anaconda3.1/lib/site-packages/pandas/core/arrays/datetimes.py?line=2212'>2213</a>\u001b[0m     \u001b[39m#  return them as i8 to distinguish from wall times\u001b[39;00m\n",
      "File \u001b[1;32mc:\\Users\\BlueShift\\anaconda3.1\\lib\\site-packages\\pandas\\_libs\\tslibs\\conversion.pyx:360\u001b[0m, in \u001b[0;36mpandas._libs.tslibs.conversion.datetime_to_datetime64\u001b[1;34m()\u001b[0m\n",
      "\u001b[1;31mTypeError\u001b[0m: Unrecognized value type: <class 'str'>",
      "\nDuring handling of the above exception, another exception occurred:\n",
      "\u001b[1;31mParserError\u001b[0m                               Traceback (most recent call last)",
      "\u001b[1;32mUntitled-1.ipynb Cell 16'\u001b[0m in \u001b[0;36m<cell line: 2>\u001b[1;34m()\u001b[0m\n\u001b[0;32m      <a href='vscode-notebook-cell:Untitled-1.ipynb?jupyter-notebook#ch0000035untitled?line=0'>1</a>\u001b[0m amostra \u001b[39m=\u001b[39m Prophet()\n\u001b[1;32m----> <a href='vscode-notebook-cell:Untitled-1.ipynb?jupyter-notebook#ch0000035untitled?line=1'>2</a>\u001b[0m amostra\u001b[39m.\u001b[39;49mfit(df_limpo_teste)\n",
      "File \u001b[1;32mc:\\Users\\BlueShift\\anaconda3.1\\lib\\site-packages\\prophet\\forecaster.py:1114\u001b[0m, in \u001b[0;36mProphet.fit\u001b[1;34m(self, df, **kwargs)\u001b[0m\n\u001b[0;32m   <a href='file:///c%3A/Users/BlueShift/anaconda3.1/lib/site-packages/prophet/forecaster.py?line=1111'>1112</a>\u001b[0m \u001b[39mif\u001b[39;00m history\u001b[39m.\u001b[39mshape[\u001b[39m0\u001b[39m] \u001b[39m<\u001b[39m \u001b[39m2\u001b[39m:\n\u001b[0;32m   <a href='file:///c%3A/Users/BlueShift/anaconda3.1/lib/site-packages/prophet/forecaster.py?line=1112'>1113</a>\u001b[0m     \u001b[39mraise\u001b[39;00m \u001b[39mValueError\u001b[39;00m(\u001b[39m'\u001b[39m\u001b[39mDataframe has less than 2 non-NaN rows.\u001b[39m\u001b[39m'\u001b[39m)\n\u001b[1;32m-> <a href='file:///c%3A/Users/BlueShift/anaconda3.1/lib/site-packages/prophet/forecaster.py?line=1113'>1114</a>\u001b[0m \u001b[39mself\u001b[39m\u001b[39m.\u001b[39mhistory_dates \u001b[39m=\u001b[39m pd\u001b[39m.\u001b[39;49mto_datetime(pd\u001b[39m.\u001b[39;49mSeries(df[\u001b[39m'\u001b[39;49m\u001b[39mds\u001b[39;49m\u001b[39m'\u001b[39;49m]\u001b[39m.\u001b[39;49munique(), name\u001b[39m=\u001b[39;49m\u001b[39m'\u001b[39;49m\u001b[39mds\u001b[39;49m\u001b[39m'\u001b[39;49m))\u001b[39m.\u001b[39msort_values()\n\u001b[0;32m   <a href='file:///c%3A/Users/BlueShift/anaconda3.1/lib/site-packages/prophet/forecaster.py?line=1115'>1116</a>\u001b[0m history \u001b[39m=\u001b[39m \u001b[39mself\u001b[39m\u001b[39m.\u001b[39msetup_dataframe(history, initialize_scales\u001b[39m=\u001b[39m\u001b[39mTrue\u001b[39;00m)\n\u001b[0;32m   <a href='file:///c%3A/Users/BlueShift/anaconda3.1/lib/site-packages/prophet/forecaster.py?line=1116'>1117</a>\u001b[0m \u001b[39mself\u001b[39m\u001b[39m.\u001b[39mhistory \u001b[39m=\u001b[39m history\n",
      "File \u001b[1;32mc:\\Users\\BlueShift\\anaconda3.1\\lib\\site-packages\\pandas\\core\\tools\\datetimes.py:1051\u001b[0m, in \u001b[0;36mto_datetime\u001b[1;34m(arg, errors, dayfirst, yearfirst, utc, format, exact, unit, infer_datetime_format, origin, cache)\u001b[0m\n\u001b[0;32m   <a href='file:///c%3A/Users/BlueShift/anaconda3.1/lib/site-packages/pandas/core/tools/datetimes.py?line=1048'>1049</a>\u001b[0m         result \u001b[39m=\u001b[39m arg\u001b[39m.\u001b[39mmap(cache_array)\n\u001b[0;32m   <a href='file:///c%3A/Users/BlueShift/anaconda3.1/lib/site-packages/pandas/core/tools/datetimes.py?line=1049'>1050</a>\u001b[0m     \u001b[39melse\u001b[39;00m:\n\u001b[1;32m-> <a href='file:///c%3A/Users/BlueShift/anaconda3.1/lib/site-packages/pandas/core/tools/datetimes.py?line=1050'>1051</a>\u001b[0m         values \u001b[39m=\u001b[39m convert_listlike(arg\u001b[39m.\u001b[39;49m_values, \u001b[39mformat\u001b[39;49m)\n\u001b[0;32m   <a href='file:///c%3A/Users/BlueShift/anaconda3.1/lib/site-packages/pandas/core/tools/datetimes.py?line=1051'>1052</a>\u001b[0m         result \u001b[39m=\u001b[39m arg\u001b[39m.\u001b[39m_constructor(values, index\u001b[39m=\u001b[39marg\u001b[39m.\u001b[39mindex, name\u001b[39m=\u001b[39marg\u001b[39m.\u001b[39mname)\n\u001b[0;32m   <a href='file:///c%3A/Users/BlueShift/anaconda3.1/lib/site-packages/pandas/core/tools/datetimes.py?line=1052'>1053</a>\u001b[0m \u001b[39melif\u001b[39;00m \u001b[39misinstance\u001b[39m(arg, (ABCDataFrame, abc\u001b[39m.\u001b[39mMutableMapping)):\n",
      "File \u001b[1;32mc:\\Users\\BlueShift\\anaconda3.1\\lib\\site-packages\\pandas\\core\\tools\\datetimes.py:402\u001b[0m, in \u001b[0;36m_convert_listlike_datetimes\u001b[1;34m(arg, format, name, tz, unit, errors, infer_datetime_format, dayfirst, yearfirst, exact)\u001b[0m\n\u001b[0;32m    <a href='file:///c%3A/Users/BlueShift/anaconda3.1/lib/site-packages/pandas/core/tools/datetimes.py?line=399'>400</a>\u001b[0m \u001b[39massert\u001b[39;00m \u001b[39mformat\u001b[39m \u001b[39mis\u001b[39;00m \u001b[39mNone\u001b[39;00m \u001b[39mor\u001b[39;00m infer_datetime_format\n\u001b[0;32m    <a href='file:///c%3A/Users/BlueShift/anaconda3.1/lib/site-packages/pandas/core/tools/datetimes.py?line=400'>401</a>\u001b[0m utc \u001b[39m=\u001b[39m tz \u001b[39m==\u001b[39m \u001b[39m\"\u001b[39m\u001b[39mutc\u001b[39m\u001b[39m\"\u001b[39m\n\u001b[1;32m--> <a href='file:///c%3A/Users/BlueShift/anaconda3.1/lib/site-packages/pandas/core/tools/datetimes.py?line=401'>402</a>\u001b[0m result, tz_parsed \u001b[39m=\u001b[39m objects_to_datetime64ns(\n\u001b[0;32m    <a href='file:///c%3A/Users/BlueShift/anaconda3.1/lib/site-packages/pandas/core/tools/datetimes.py?line=402'>403</a>\u001b[0m     arg,\n\u001b[0;32m    <a href='file:///c%3A/Users/BlueShift/anaconda3.1/lib/site-packages/pandas/core/tools/datetimes.py?line=403'>404</a>\u001b[0m     dayfirst\u001b[39m=\u001b[39;49mdayfirst,\n\u001b[0;32m    <a href='file:///c%3A/Users/BlueShift/anaconda3.1/lib/site-packages/pandas/core/tools/datetimes.py?line=404'>405</a>\u001b[0m     yearfirst\u001b[39m=\u001b[39;49myearfirst,\n\u001b[0;32m    <a href='file:///c%3A/Users/BlueShift/anaconda3.1/lib/site-packages/pandas/core/tools/datetimes.py?line=405'>406</a>\u001b[0m     utc\u001b[39m=\u001b[39;49mutc,\n\u001b[0;32m    <a href='file:///c%3A/Users/BlueShift/anaconda3.1/lib/site-packages/pandas/core/tools/datetimes.py?line=406'>407</a>\u001b[0m     errors\u001b[39m=\u001b[39;49merrors,\n\u001b[0;32m    <a href='file:///c%3A/Users/BlueShift/anaconda3.1/lib/site-packages/pandas/core/tools/datetimes.py?line=407'>408</a>\u001b[0m     require_iso8601\u001b[39m=\u001b[39;49mrequire_iso8601,\n\u001b[0;32m    <a href='file:///c%3A/Users/BlueShift/anaconda3.1/lib/site-packages/pandas/core/tools/datetimes.py?line=408'>409</a>\u001b[0m     allow_object\u001b[39m=\u001b[39;49m\u001b[39mTrue\u001b[39;49;00m,\n\u001b[0;32m    <a href='file:///c%3A/Users/BlueShift/anaconda3.1/lib/site-packages/pandas/core/tools/datetimes.py?line=409'>410</a>\u001b[0m )\n\u001b[0;32m    <a href='file:///c%3A/Users/BlueShift/anaconda3.1/lib/site-packages/pandas/core/tools/datetimes.py?line=411'>412</a>\u001b[0m \u001b[39mif\u001b[39;00m tz_parsed \u001b[39mis\u001b[39;00m \u001b[39mnot\u001b[39;00m \u001b[39mNone\u001b[39;00m:\n\u001b[0;32m    <a href='file:///c%3A/Users/BlueShift/anaconda3.1/lib/site-packages/pandas/core/tools/datetimes.py?line=412'>413</a>\u001b[0m     \u001b[39m# We can take a shortcut since the datetime64 numpy array\u001b[39;00m\n\u001b[0;32m    <a href='file:///c%3A/Users/BlueShift/anaconda3.1/lib/site-packages/pandas/core/tools/datetimes.py?line=413'>414</a>\u001b[0m     \u001b[39m# is in UTC\u001b[39;00m\n\u001b[0;32m    <a href='file:///c%3A/Users/BlueShift/anaconda3.1/lib/site-packages/pandas/core/tools/datetimes.py?line=414'>415</a>\u001b[0m     dta \u001b[39m=\u001b[39m DatetimeArray(result, dtype\u001b[39m=\u001b[39mtz_to_dtype(tz_parsed))\n",
      "File \u001b[1;32mc:\\Users\\BlueShift\\anaconda3.1\\lib\\site-packages\\pandas\\core\\arrays\\datetimes.py:2217\u001b[0m, in \u001b[0;36mobjects_to_datetime64ns\u001b[1;34m(data, dayfirst, yearfirst, utc, errors, require_iso8601, allow_object, allow_mixed)\u001b[0m\n\u001b[0;32m   <a href='file:///c%3A/Users/BlueShift/anaconda3.1/lib/site-packages/pandas/core/arrays/datetimes.py?line=2214'>2215</a>\u001b[0m         \u001b[39mreturn\u001b[39;00m values\u001b[39m.\u001b[39mview(\u001b[39m\"\u001b[39m\u001b[39mi8\u001b[39m\u001b[39m\"\u001b[39m), tz_parsed\n\u001b[0;32m   <a href='file:///c%3A/Users/BlueShift/anaconda3.1/lib/site-packages/pandas/core/arrays/datetimes.py?line=2215'>2216</a>\u001b[0m     \u001b[39mexcept\u001b[39;00m (\u001b[39mValueError\u001b[39;00m, \u001b[39mTypeError\u001b[39;00m):\n\u001b[1;32m-> <a href='file:///c%3A/Users/BlueShift/anaconda3.1/lib/site-packages/pandas/core/arrays/datetimes.py?line=2216'>2217</a>\u001b[0m         \u001b[39mraise\u001b[39;00m err\n\u001b[0;32m   <a href='file:///c%3A/Users/BlueShift/anaconda3.1/lib/site-packages/pandas/core/arrays/datetimes.py?line=2218'>2219</a>\u001b[0m \u001b[39mif\u001b[39;00m tz_parsed \u001b[39mis\u001b[39;00m \u001b[39mnot\u001b[39;00m \u001b[39mNone\u001b[39;00m:\n\u001b[0;32m   <a href='file:///c%3A/Users/BlueShift/anaconda3.1/lib/site-packages/pandas/core/arrays/datetimes.py?line=2219'>2220</a>\u001b[0m     \u001b[39m# We can take a shortcut since the datetime64 numpy array\u001b[39;00m\n\u001b[0;32m   <a href='file:///c%3A/Users/BlueShift/anaconda3.1/lib/site-packages/pandas/core/arrays/datetimes.py?line=2220'>2221</a>\u001b[0m     \u001b[39m#  is in UTC\u001b[39;00m\n\u001b[0;32m   <a href='file:///c%3A/Users/BlueShift/anaconda3.1/lib/site-packages/pandas/core/arrays/datetimes.py?line=2221'>2222</a>\u001b[0m     \u001b[39m# Return i8 values to denote unix timestamps\u001b[39;00m\n\u001b[0;32m   <a href='file:///c%3A/Users/BlueShift/anaconda3.1/lib/site-packages/pandas/core/arrays/datetimes.py?line=2222'>2223</a>\u001b[0m     \u001b[39mreturn\u001b[39;00m result\u001b[39m.\u001b[39mview(\u001b[39m\"\u001b[39m\u001b[39mi8\u001b[39m\u001b[39m\"\u001b[39m), tz_parsed\n",
      "File \u001b[1;32mc:\\Users\\BlueShift\\anaconda3.1\\lib\\site-packages\\pandas\\core\\arrays\\datetimes.py:2199\u001b[0m, in \u001b[0;36mobjects_to_datetime64ns\u001b[1;34m(data, dayfirst, yearfirst, utc, errors, require_iso8601, allow_object, allow_mixed)\u001b[0m\n\u001b[0;32m   <a href='file:///c%3A/Users/BlueShift/anaconda3.1/lib/site-packages/pandas/core/arrays/datetimes.py?line=2196'>2197</a>\u001b[0m order: Literal[\u001b[39m\"\u001b[39m\u001b[39mF\u001b[39m\u001b[39m\"\u001b[39m, \u001b[39m\"\u001b[39m\u001b[39mC\u001b[39m\u001b[39m\"\u001b[39m] \u001b[39m=\u001b[39m \u001b[39m\"\u001b[39m\u001b[39mF\u001b[39m\u001b[39m\"\u001b[39m \u001b[39mif\u001b[39;00m flags\u001b[39m.\u001b[39mf_contiguous \u001b[39melse\u001b[39;00m \u001b[39m\"\u001b[39m\u001b[39mC\u001b[39m\u001b[39m\"\u001b[39m\n\u001b[0;32m   <a href='file:///c%3A/Users/BlueShift/anaconda3.1/lib/site-packages/pandas/core/arrays/datetimes.py?line=2197'>2198</a>\u001b[0m \u001b[39mtry\u001b[39;00m:\n\u001b[1;32m-> <a href='file:///c%3A/Users/BlueShift/anaconda3.1/lib/site-packages/pandas/core/arrays/datetimes.py?line=2198'>2199</a>\u001b[0m     result, tz_parsed \u001b[39m=\u001b[39m tslib\u001b[39m.\u001b[39;49marray_to_datetime(\n\u001b[0;32m   <a href='file:///c%3A/Users/BlueShift/anaconda3.1/lib/site-packages/pandas/core/arrays/datetimes.py?line=2199'>2200</a>\u001b[0m         data\u001b[39m.\u001b[39;49mravel(\u001b[39m\"\u001b[39;49m\u001b[39mK\u001b[39;49m\u001b[39m\"\u001b[39;49m),\n\u001b[0;32m   <a href='file:///c%3A/Users/BlueShift/anaconda3.1/lib/site-packages/pandas/core/arrays/datetimes.py?line=2200'>2201</a>\u001b[0m         errors\u001b[39m=\u001b[39;49merrors,\n\u001b[0;32m   <a href='file:///c%3A/Users/BlueShift/anaconda3.1/lib/site-packages/pandas/core/arrays/datetimes.py?line=2201'>2202</a>\u001b[0m         utc\u001b[39m=\u001b[39;49mutc,\n\u001b[0;32m   <a href='file:///c%3A/Users/BlueShift/anaconda3.1/lib/site-packages/pandas/core/arrays/datetimes.py?line=2202'>2203</a>\u001b[0m         dayfirst\u001b[39m=\u001b[39;49mdayfirst,\n\u001b[0;32m   <a href='file:///c%3A/Users/BlueShift/anaconda3.1/lib/site-packages/pandas/core/arrays/datetimes.py?line=2203'>2204</a>\u001b[0m         yearfirst\u001b[39m=\u001b[39;49myearfirst,\n\u001b[0;32m   <a href='file:///c%3A/Users/BlueShift/anaconda3.1/lib/site-packages/pandas/core/arrays/datetimes.py?line=2204'>2205</a>\u001b[0m         require_iso8601\u001b[39m=\u001b[39;49mrequire_iso8601,\n\u001b[0;32m   <a href='file:///c%3A/Users/BlueShift/anaconda3.1/lib/site-packages/pandas/core/arrays/datetimes.py?line=2205'>2206</a>\u001b[0m         allow_mixed\u001b[39m=\u001b[39;49mallow_mixed,\n\u001b[0;32m   <a href='file:///c%3A/Users/BlueShift/anaconda3.1/lib/site-packages/pandas/core/arrays/datetimes.py?line=2206'>2207</a>\u001b[0m     )\n\u001b[0;32m   <a href='file:///c%3A/Users/BlueShift/anaconda3.1/lib/site-packages/pandas/core/arrays/datetimes.py?line=2207'>2208</a>\u001b[0m     result \u001b[39m=\u001b[39m result\u001b[39m.\u001b[39mreshape(data\u001b[39m.\u001b[39mshape, order\u001b[39m=\u001b[39morder)\n\u001b[0;32m   <a href='file:///c%3A/Users/BlueShift/anaconda3.1/lib/site-packages/pandas/core/arrays/datetimes.py?line=2208'>2209</a>\u001b[0m \u001b[39mexcept\u001b[39;00m \u001b[39mValueError\u001b[39;00m \u001b[39mas\u001b[39;00m err:\n",
      "File \u001b[1;32mc:\\Users\\BlueShift\\anaconda3.1\\lib\\site-packages\\pandas\\_libs\\tslib.pyx:381\u001b[0m, in \u001b[0;36mpandas._libs.tslib.array_to_datetime\u001b[1;34m()\u001b[0m\n",
      "File \u001b[1;32mc:\\Users\\BlueShift\\anaconda3.1\\lib\\site-packages\\pandas\\_libs\\tslib.pyx:613\u001b[0m, in \u001b[0;36mpandas._libs.tslib.array_to_datetime\u001b[1;34m()\u001b[0m\n",
      "File \u001b[1;32mc:\\Users\\BlueShift\\anaconda3.1\\lib\\site-packages\\pandas\\_libs\\tslib.pyx:751\u001b[0m, in \u001b[0;36mpandas._libs.tslib._array_to_datetime_object\u001b[1;34m()\u001b[0m\n",
      "File \u001b[1;32mc:\\Users\\BlueShift\\anaconda3.1\\lib\\site-packages\\pandas\\_libs\\tslib.pyx:742\u001b[0m, in \u001b[0;36mpandas._libs.tslib._array_to_datetime_object\u001b[1;34m()\u001b[0m\n",
      "File \u001b[1;32mc:\\Users\\BlueShift\\anaconda3.1\\lib\\site-packages\\pandas\\_libs\\tslibs\\parsing.pyx:281\u001b[0m, in \u001b[0;36mpandas._libs.tslibs.parsing.parse_datetime_string\u001b[1;34m()\u001b[0m\n",
      "File \u001b[1;32mc:\\Users\\BlueShift\\anaconda3.1\\lib\\site-packages\\dateutil\\parser\\_parser.py:1368\u001b[0m, in \u001b[0;36mparse\u001b[1;34m(timestr, parserinfo, **kwargs)\u001b[0m\n\u001b[0;32m   <a href='file:///c%3A/Users/BlueShift/anaconda3.1/lib/site-packages/dateutil/parser/_parser.py?line=1365'>1366</a>\u001b[0m     \u001b[39mreturn\u001b[39;00m parser(parserinfo)\u001b[39m.\u001b[39mparse(timestr, \u001b[39m*\u001b[39m\u001b[39m*\u001b[39mkwargs)\n\u001b[0;32m   <a href='file:///c%3A/Users/BlueShift/anaconda3.1/lib/site-packages/dateutil/parser/_parser.py?line=1366'>1367</a>\u001b[0m \u001b[39melse\u001b[39;00m:\n\u001b[1;32m-> <a href='file:///c%3A/Users/BlueShift/anaconda3.1/lib/site-packages/dateutil/parser/_parser.py?line=1367'>1368</a>\u001b[0m     \u001b[39mreturn\u001b[39;00m DEFAULTPARSER\u001b[39m.\u001b[39mparse(timestr, \u001b[39m*\u001b[39m\u001b[39m*\u001b[39mkwargs)\n",
      "File \u001b[1;32mc:\\Users\\BlueShift\\anaconda3.1\\lib\\site-packages\\dateutil\\parser\\_parser.py:643\u001b[0m, in \u001b[0;36mparser.parse\u001b[1;34m(self, timestr, default, ignoretz, tzinfos, **kwargs)\u001b[0m\n\u001b[0;32m    <a href='file:///c%3A/Users/BlueShift/anaconda3.1/lib/site-packages/dateutil/parser/_parser.py?line=639'>640</a>\u001b[0m res, skipped_tokens \u001b[39m=\u001b[39m \u001b[39mself\u001b[39m\u001b[39m.\u001b[39m_parse(timestr, \u001b[39m*\u001b[39m\u001b[39m*\u001b[39mkwargs)\n\u001b[0;32m    <a href='file:///c%3A/Users/BlueShift/anaconda3.1/lib/site-packages/dateutil/parser/_parser.py?line=641'>642</a>\u001b[0m \u001b[39mif\u001b[39;00m res \u001b[39mis\u001b[39;00m \u001b[39mNone\u001b[39;00m:\n\u001b[1;32m--> <a href='file:///c%3A/Users/BlueShift/anaconda3.1/lib/site-packages/dateutil/parser/_parser.py?line=642'>643</a>\u001b[0m     \u001b[39mraise\u001b[39;00m ParserError(\u001b[39m\"\u001b[39m\u001b[39mUnknown string format: \u001b[39m\u001b[39m%s\u001b[39;00m\u001b[39m\"\u001b[39m, timestr)\n\u001b[0;32m    <a href='file:///c%3A/Users/BlueShift/anaconda3.1/lib/site-packages/dateutil/parser/_parser.py?line=644'>645</a>\u001b[0m \u001b[39mif\u001b[39;00m \u001b[39mlen\u001b[39m(res) \u001b[39m==\u001b[39m \u001b[39m0\u001b[39m:\n\u001b[0;32m    <a href='file:///c%3A/Users/BlueShift/anaconda3.1/lib/site-packages/dateutil/parser/_parser.py?line=645'>646</a>\u001b[0m     \u001b[39mraise\u001b[39;00m ParserError(\u001b[39m\"\u001b[39m\u001b[39mString does not contain a date: \u001b[39m\u001b[39m%s\u001b[39;00m\u001b[39m\"\u001b[39m, timestr)\n",
      "\u001b[1;31mParserError\u001b[0m: Unknown string format: Date"
     ]
    }
   ],
   "source": [
    "amostra = Prophet()\n",
    "amostra.fit(df_limpo_teste)"
   ]
  },
  {
   "cell_type": "code",
   "execution_count": 231,
   "metadata": {},
   "outputs": [
    {
     "ename": "Exception",
     "evalue": "Model has not been fit.",
     "output_type": "error",
     "traceback": [
      "\u001b[1;31m---------------------------------------------------------------------------\u001b[0m",
      "\u001b[1;31mException\u001b[0m                                 Traceback (most recent call last)",
      "\u001b[1;32mUntitled-1.ipynb Cell 17'\u001b[0m in \u001b[0;36m<cell line: 1>\u001b[1;34m()\u001b[0m\n\u001b[1;32m----> <a href='vscode-notebook-cell:Untitled-1.ipynb?jupyter-notebook#ch0000036untitled?line=0'>1</a>\u001b[0m previsao1 \u001b[39m=\u001b[39m modelo1\u001b[39m.\u001b[39;49mpredict(pd\u001b[39m.\u001b[39;49mDataFrame(df_teste_teste[\u001b[39m'\u001b[39;49m\u001b[39mds\u001b[39;49m\u001b[39m'\u001b[39;49m]))\n",
      "File \u001b[1;32mc:\\Users\\BlueShift\\anaconda3.1\\lib\\site-packages\\prophet\\forecaster.py:1198\u001b[0m, in \u001b[0;36mProphet.predict\u001b[1;34m(self, df)\u001b[0m\n\u001b[0;32m   <a href='file:///c%3A/Users/BlueShift/anaconda3.1/lib/site-packages/prophet/forecaster.py?line=1184'>1185</a>\u001b[0m \u001b[39m\"\"\"Predict using the prophet model.\u001b[39;00m\n\u001b[0;32m   <a href='file:///c%3A/Users/BlueShift/anaconda3.1/lib/site-packages/prophet/forecaster.py?line=1185'>1186</a>\u001b[0m \n\u001b[0;32m   <a href='file:///c%3A/Users/BlueShift/anaconda3.1/lib/site-packages/prophet/forecaster.py?line=1186'>1187</a>\u001b[0m \u001b[39mParameters\u001b[39;00m\n\u001b[1;32m   (...)\u001b[0m\n\u001b[0;32m   <a href='file:///c%3A/Users/BlueShift/anaconda3.1/lib/site-packages/prophet/forecaster.py?line=1194'>1195</a>\u001b[0m \u001b[39mA pd.DataFrame with the forecast components.\u001b[39;00m\n\u001b[0;32m   <a href='file:///c%3A/Users/BlueShift/anaconda3.1/lib/site-packages/prophet/forecaster.py?line=1195'>1196</a>\u001b[0m \u001b[39m\"\"\"\u001b[39;00m\n\u001b[0;32m   <a href='file:///c%3A/Users/BlueShift/anaconda3.1/lib/site-packages/prophet/forecaster.py?line=1196'>1197</a>\u001b[0m \u001b[39mif\u001b[39;00m \u001b[39mself\u001b[39m\u001b[39m.\u001b[39mhistory \u001b[39mis\u001b[39;00m \u001b[39mNone\u001b[39;00m:\n\u001b[1;32m-> <a href='file:///c%3A/Users/BlueShift/anaconda3.1/lib/site-packages/prophet/forecaster.py?line=1197'>1198</a>\u001b[0m     \u001b[39mraise\u001b[39;00m \u001b[39mException\u001b[39;00m(\u001b[39m'\u001b[39m\u001b[39mModel has not been fit.\u001b[39m\u001b[39m'\u001b[39m)\n\u001b[0;32m   <a href='file:///c%3A/Users/BlueShift/anaconda3.1/lib/site-packages/prophet/forecaster.py?line=1199'>1200</a>\u001b[0m \u001b[39mif\u001b[39;00m df \u001b[39mis\u001b[39;00m \u001b[39mNone\u001b[39;00m:\n\u001b[0;32m   <a href='file:///c%3A/Users/BlueShift/anaconda3.1/lib/site-packages/prophet/forecaster.py?line=1200'>1201</a>\u001b[0m     df \u001b[39m=\u001b[39m \u001b[39mself\u001b[39m\u001b[39m.\u001b[39mhistory\u001b[39m.\u001b[39mcopy()\n",
      "\u001b[1;31mException\u001b[0m: Model has not been fit."
     ]
    }
   ],
   "source": [
    "previsao1 = modelo1.predict(pd.DataFrame(df_teste_teste['ds']))"
   ]
  },
  {
   "cell_type": "code",
   "execution_count": 232,
   "metadata": {},
   "outputs": [
    {
     "data": {
      "text/plain": [
       "0    66.130734\n",
       "1    66.130734\n",
       "2    66.130734\n",
       "3    66.130734\n",
       "4    66.130734\n",
       "Name: yhat, dtype: float64"
      ]
     },
     "execution_count": 232,
     "metadata": {},
     "output_type": "execute_result"
    }
   ],
   "source": [
    "previsao1.head(5)['yhat']"
   ]
  },
  {
   "cell_type": "code",
   "execution_count": 233,
   "metadata": {},
   "outputs": [],
   "source": [
    "y_prev = previsao1['yhat'].values\n",
    "y_true = df_teste_teste['y'].values"
   ]
  },
  {
   "cell_type": "code",
   "execution_count": 234,
   "metadata": {},
   "outputs": [
    {
     "ename": "ValueError",
     "evalue": "Found input variables with inconsistent numbers of samples: [212, 202]",
     "output_type": "error",
     "traceback": [
      "\u001b[1;31m---------------------------------------------------------------------------\u001b[0m",
      "\u001b[1;31mValueError\u001b[0m                                Traceback (most recent call last)",
      "\u001b[1;32mUntitled-1.ipynb Cell 20'\u001b[0m in \u001b[0;36m<cell line: 1>\u001b[1;34m()\u001b[0m\n\u001b[1;32m----> <a href='vscode-notebook-cell:Untitled-1.ipynb?jupyter-notebook#ch0000039untitled?line=0'>1</a>\u001b[0m mean_squared_error(y_prev,y_true)\n",
      "File \u001b[1;32mc:\\Users\\BlueShift\\anaconda3.1\\lib\\site-packages\\sklearn\\metrics\\_regression.py:442\u001b[0m, in \u001b[0;36mmean_squared_error\u001b[1;34m(y_true, y_pred, sample_weight, multioutput, squared)\u001b[0m\n\u001b[0;32m    <a href='file:///c%3A/Users/BlueShift/anaconda3.1/lib/site-packages/sklearn/metrics/_regression.py?line=381'>382</a>\u001b[0m \u001b[39mdef\u001b[39;00m \u001b[39mmean_squared_error\u001b[39m(\n\u001b[0;32m    <a href='file:///c%3A/Users/BlueShift/anaconda3.1/lib/site-packages/sklearn/metrics/_regression.py?line=382'>383</a>\u001b[0m     y_true, y_pred, \u001b[39m*\u001b[39m, sample_weight\u001b[39m=\u001b[39m\u001b[39mNone\u001b[39;00m, multioutput\u001b[39m=\u001b[39m\u001b[39m\"\u001b[39m\u001b[39muniform_average\u001b[39m\u001b[39m\"\u001b[39m, squared\u001b[39m=\u001b[39m\u001b[39mTrue\u001b[39;00m\n\u001b[0;32m    <a href='file:///c%3A/Users/BlueShift/anaconda3.1/lib/site-packages/sklearn/metrics/_regression.py?line=383'>384</a>\u001b[0m ):\n\u001b[0;32m    <a href='file:///c%3A/Users/BlueShift/anaconda3.1/lib/site-packages/sklearn/metrics/_regression.py?line=384'>385</a>\u001b[0m     \u001b[39m\"\"\"Mean squared error regression loss.\u001b[39;00m\n\u001b[0;32m    <a href='file:///c%3A/Users/BlueShift/anaconda3.1/lib/site-packages/sklearn/metrics/_regression.py?line=385'>386</a>\u001b[0m \n\u001b[0;32m    <a href='file:///c%3A/Users/BlueShift/anaconda3.1/lib/site-packages/sklearn/metrics/_regression.py?line=386'>387</a>\u001b[0m \u001b[39m    Read more in the :ref:`User Guide <mean_squared_error>`.\u001b[39;00m\n\u001b[1;32m   (...)\u001b[0m\n\u001b[0;32m    <a href='file:///c%3A/Users/BlueShift/anaconda3.1/lib/site-packages/sklearn/metrics/_regression.py?line=439'>440</a>\u001b[0m \u001b[39m    0.825...\u001b[39;00m\n\u001b[0;32m    <a href='file:///c%3A/Users/BlueShift/anaconda3.1/lib/site-packages/sklearn/metrics/_regression.py?line=440'>441</a>\u001b[0m \u001b[39m    \"\"\"\u001b[39;00m\n\u001b[1;32m--> <a href='file:///c%3A/Users/BlueShift/anaconda3.1/lib/site-packages/sklearn/metrics/_regression.py?line=441'>442</a>\u001b[0m     y_type, y_true, y_pred, multioutput \u001b[39m=\u001b[39m _check_reg_targets(\n\u001b[0;32m    <a href='file:///c%3A/Users/BlueShift/anaconda3.1/lib/site-packages/sklearn/metrics/_regression.py?line=442'>443</a>\u001b[0m         y_true, y_pred, multioutput\n\u001b[0;32m    <a href='file:///c%3A/Users/BlueShift/anaconda3.1/lib/site-packages/sklearn/metrics/_regression.py?line=443'>444</a>\u001b[0m     )\n\u001b[0;32m    <a href='file:///c%3A/Users/BlueShift/anaconda3.1/lib/site-packages/sklearn/metrics/_regression.py?line=444'>445</a>\u001b[0m     check_consistent_length(y_true, y_pred, sample_weight)\n\u001b[0;32m    <a href='file:///c%3A/Users/BlueShift/anaconda3.1/lib/site-packages/sklearn/metrics/_regression.py?line=445'>446</a>\u001b[0m     output_errors \u001b[39m=\u001b[39m np\u001b[39m.\u001b[39maverage((y_true \u001b[39m-\u001b[39m y_pred) \u001b[39m*\u001b[39m\u001b[39m*\u001b[39m \u001b[39m2\u001b[39m, axis\u001b[39m=\u001b[39m\u001b[39m0\u001b[39m, weights\u001b[39m=\u001b[39msample_weight)\n",
      "File \u001b[1;32mc:\\Users\\BlueShift\\anaconda3.1\\lib\\site-packages\\sklearn\\metrics\\_regression.py:100\u001b[0m, in \u001b[0;36m_check_reg_targets\u001b[1;34m(y_true, y_pred, multioutput, dtype)\u001b[0m\n\u001b[0;32m     <a href='file:///c%3A/Users/BlueShift/anaconda3.1/lib/site-packages/sklearn/metrics/_regression.py?line=65'>66</a>\u001b[0m \u001b[39mdef\u001b[39;00m \u001b[39m_check_reg_targets\u001b[39m(y_true, y_pred, multioutput, dtype\u001b[39m=\u001b[39m\u001b[39m\"\u001b[39m\u001b[39mnumeric\u001b[39m\u001b[39m\"\u001b[39m):\n\u001b[0;32m     <a href='file:///c%3A/Users/BlueShift/anaconda3.1/lib/site-packages/sklearn/metrics/_regression.py?line=66'>67</a>\u001b[0m     \u001b[39m\"\"\"Check that y_true and y_pred belong to the same regression task.\u001b[39;00m\n\u001b[0;32m     <a href='file:///c%3A/Users/BlueShift/anaconda3.1/lib/site-packages/sklearn/metrics/_regression.py?line=67'>68</a>\u001b[0m \n\u001b[0;32m     <a href='file:///c%3A/Users/BlueShift/anaconda3.1/lib/site-packages/sklearn/metrics/_regression.py?line=68'>69</a>\u001b[0m \u001b[39m    Parameters\u001b[39;00m\n\u001b[1;32m   (...)\u001b[0m\n\u001b[0;32m     <a href='file:///c%3A/Users/BlueShift/anaconda3.1/lib/site-packages/sklearn/metrics/_regression.py?line=97'>98</a>\u001b[0m \u001b[39m        correct keyword.\u001b[39;00m\n\u001b[0;32m     <a href='file:///c%3A/Users/BlueShift/anaconda3.1/lib/site-packages/sklearn/metrics/_regression.py?line=98'>99</a>\u001b[0m \u001b[39m    \"\"\"\u001b[39;00m\n\u001b[1;32m--> <a href='file:///c%3A/Users/BlueShift/anaconda3.1/lib/site-packages/sklearn/metrics/_regression.py?line=99'>100</a>\u001b[0m     check_consistent_length(y_true, y_pred)\n\u001b[0;32m    <a href='file:///c%3A/Users/BlueShift/anaconda3.1/lib/site-packages/sklearn/metrics/_regression.py?line=100'>101</a>\u001b[0m     y_true \u001b[39m=\u001b[39m check_array(y_true, ensure_2d\u001b[39m=\u001b[39m\u001b[39mFalse\u001b[39;00m, dtype\u001b[39m=\u001b[39mdtype)\n\u001b[0;32m    <a href='file:///c%3A/Users/BlueShift/anaconda3.1/lib/site-packages/sklearn/metrics/_regression.py?line=101'>102</a>\u001b[0m     y_pred \u001b[39m=\u001b[39m check_array(y_pred, ensure_2d\u001b[39m=\u001b[39m\u001b[39mFalse\u001b[39;00m, dtype\u001b[39m=\u001b[39mdtype)\n",
      "File \u001b[1;32mc:\\Users\\BlueShift\\anaconda3.1\\lib\\site-packages\\sklearn\\utils\\validation.py:387\u001b[0m, in \u001b[0;36mcheck_consistent_length\u001b[1;34m(*arrays)\u001b[0m\n\u001b[0;32m    <a href='file:///c%3A/Users/BlueShift/anaconda3.1/lib/site-packages/sklearn/utils/validation.py?line=384'>385</a>\u001b[0m uniques \u001b[39m=\u001b[39m np\u001b[39m.\u001b[39munique(lengths)\n\u001b[0;32m    <a href='file:///c%3A/Users/BlueShift/anaconda3.1/lib/site-packages/sklearn/utils/validation.py?line=385'>386</a>\u001b[0m \u001b[39mif\u001b[39;00m \u001b[39mlen\u001b[39m(uniques) \u001b[39m>\u001b[39m \u001b[39m1\u001b[39m:\n\u001b[1;32m--> <a href='file:///c%3A/Users/BlueShift/anaconda3.1/lib/site-packages/sklearn/utils/validation.py?line=386'>387</a>\u001b[0m     \u001b[39mraise\u001b[39;00m \u001b[39mValueError\u001b[39;00m(\n\u001b[0;32m    <a href='file:///c%3A/Users/BlueShift/anaconda3.1/lib/site-packages/sklearn/utils/validation.py?line=387'>388</a>\u001b[0m         \u001b[39m\"\u001b[39m\u001b[39mFound input variables with inconsistent numbers of samples: \u001b[39m\u001b[39m%r\u001b[39;00m\u001b[39m\"\u001b[39m\n\u001b[0;32m    <a href='file:///c%3A/Users/BlueShift/anaconda3.1/lib/site-packages/sklearn/utils/validation.py?line=388'>389</a>\u001b[0m         \u001b[39m%\u001b[39m [\u001b[39mint\u001b[39m(l) \u001b[39mfor\u001b[39;00m l \u001b[39min\u001b[39;00m lengths]\n\u001b[0;32m    <a href='file:///c%3A/Users/BlueShift/anaconda3.1/lib/site-packages/sklearn/utils/validation.py?line=389'>390</a>\u001b[0m     )\n",
      "\u001b[1;31mValueError\u001b[0m: Found input variables with inconsistent numbers of samples: [212, 202]"
     ]
    }
   ],
   "source": [
    "mean_squared_error(y_prev,y_true)"
   ]
  },
  {
   "cell_type": "code",
   "execution_count": 235,
   "metadata": {},
   "outputs": [
    {
     "data": {
      "text/plain": [
       "<matplotlib.legend.Legend at 0x1dae35f3370>"
      ]
     },
     "execution_count": 235,
     "metadata": {},
     "output_type": "execute_result"
    },
    {
     "data": {
      "image/png": "[encoded data removed]",
      "text/plain": [
       "<Figure size 432x288 with 1 Axes>"
      ]
     },
     "metadata": {
      "needs_background": "light"
     },
     "output_type": "display_data"
    }
   ],
   "source": [
    "plt.plot(y_true , label = 'Real')\n",
    "plt.plot(y_prev , label = 'Previsao')\n",
    "plt.legend()"
   ]
  },
  {
   "cell_type": "code",
   "execution_count": 236,
   "metadata": {},
   "outputs": [],
   "source": [
    "df1 = pd.DataFrame(previsao1)"
   ]
  },
  {
   "cell_type": "code",
   "execution_count": 237,
   "metadata": {},
   "outputs": [
    {
     "data": {
      "text/html": [
       "<div>\n",
       "<style scoped>\n",
       "    .dataframe tbody tr th:only-of-type {\n",
       "        vertical-align: middle;\n",
       "    }\n",
       "\n",
       "    .dataframe tbody tr th {\n",
       "        vertical-align: top;\n",
       "    }\n",
       "\n",
       "    .dataframe thead th {\n",
       "        text-align: right;\n",
       "    }\n",
       "</style>\n",
       "<table border=\"1\" class=\"dataframe\">\n",
       "  <thead>\n",
       "    <tr style=\"text-align: right;\">\n",
       "      <th></th>\n",
       "      <th>trend</th>\n",
       "      <th>yhat_lower</th>\n",
       "      <th>yhat_upper</th>\n",
       "      <th>trend_lower</th>\n",
       "      <th>trend_upper</th>\n",
       "      <th>additive_terms</th>\n",
       "      <th>additive_terms_lower</th>\n",
       "      <th>additive_terms_upper</th>\n",
       "      <th>multiplicative_terms</th>\n",
       "      <th>multiplicative_terms_lower</th>\n",
       "      <th>multiplicative_terms_upper</th>\n",
       "    </tr>\n",
       "    <tr>\n",
       "      <th>yhat</th>\n",
       "      <th></th>\n",
       "      <th></th>\n",
       "      <th></th>\n",
       "      <th></th>\n",
       "      <th></th>\n",
       "      <th></th>\n",
       "      <th></th>\n",
       "      <th></th>\n",
       "      <th></th>\n",
       "      <th></th>\n",
       "      <th></th>\n",
       "    </tr>\n",
       "  </thead>\n",
       "  <tbody>\n",
       "    <tr>\n",
       "      <th>65.447617</th>\n",
       "      <td>65.447617</td>\n",
       "      <td>61.147447</td>\n",
       "      <td>69.732087</td>\n",
       "      <td>65.447617</td>\n",
       "      <td>65.447617</td>\n",
       "      <td>0.0</td>\n",
       "      <td>0.0</td>\n",
       "      <td>0.0</td>\n",
       "      <td>0.0</td>\n",
       "      <td>0.0</td>\n",
       "      <td>0.0</td>\n",
       "    </tr>\n",
       "    <tr>\n",
       "      <th>65.460916</th>\n",
       "      <td>65.460916</td>\n",
       "      <td>61.130270</td>\n",
       "      <td>69.727939</td>\n",
       "      <td>65.460916</td>\n",
       "      <td>65.460916</td>\n",
       "      <td>0.0</td>\n",
       "      <td>0.0</td>\n",
       "      <td>0.0</td>\n",
       "      <td>0.0</td>\n",
       "      <td>0.0</td>\n",
       "      <td>0.0</td>\n",
       "    </tr>\n",
       "    <tr>\n",
       "      <th>65.474217</th>\n",
       "      <td>65.474217</td>\n",
       "      <td>61.142423</td>\n",
       "      <td>69.843897</td>\n",
       "      <td>65.474217</td>\n",
       "      <td>65.474217</td>\n",
       "      <td>0.0</td>\n",
       "      <td>0.0</td>\n",
       "      <td>0.0</td>\n",
       "      <td>0.0</td>\n",
       "      <td>0.0</td>\n",
       "      <td>0.0</td>\n",
       "    </tr>\n",
       "    <tr>\n",
       "      <th>65.487519</th>\n",
       "      <td>65.487519</td>\n",
       "      <td>61.227940</td>\n",
       "      <td>69.848476</td>\n",
       "      <td>65.487519</td>\n",
       "      <td>65.487519</td>\n",
       "      <td>0.0</td>\n",
       "      <td>0.0</td>\n",
       "      <td>0.0</td>\n",
       "      <td>0.0</td>\n",
       "      <td>0.0</td>\n",
       "      <td>0.0</td>\n",
       "    </tr>\n",
       "    <tr>\n",
       "      <th>65.500826</th>\n",
       "      <td>65.500826</td>\n",
       "      <td>61.161139</td>\n",
       "      <td>69.704460</td>\n",
       "      <td>65.500826</td>\n",
       "      <td>65.500826</td>\n",
       "      <td>0.0</td>\n",
       "      <td>0.0</td>\n",
       "      <td>0.0</td>\n",
       "      <td>0.0</td>\n",
       "      <td>0.0</td>\n",
       "      <td>0.0</td>\n",
       "    </tr>\n",
       "    <tr>\n",
       "      <th>66.130734</th>\n",
       "      <td>66.130734</td>\n",
       "      <td>61.823184</td>\n",
       "      <td>70.425034</td>\n",
       "      <td>66.130734</td>\n",
       "      <td>66.130734</td>\n",
       "      <td>0.0</td>\n",
       "      <td>0.0</td>\n",
       "      <td>0.0</td>\n",
       "      <td>0.0</td>\n",
       "      <td>0.0</td>\n",
       "      <td>0.0</td>\n",
       "    </tr>\n",
       "    <tr>\n",
       "      <th>66.180393</th>\n",
       "      <td>66.180393</td>\n",
       "      <td>61.897130</td>\n",
       "      <td>70.481292</td>\n",
       "      <td>66.180393</td>\n",
       "      <td>66.180393</td>\n",
       "      <td>0.0</td>\n",
       "      <td>0.0</td>\n",
       "      <td>0.0</td>\n",
       "      <td>0.0</td>\n",
       "      <td>0.0</td>\n",
       "      <td>0.0</td>\n",
       "    </tr>\n",
       "  </tbody>\n",
       "</table>\n",
       "</div>"
      ],
      "text/plain": [
       "               trend  yhat_lower  yhat_upper  trend_lower  trend_upper  \\\n",
       "yhat                                                                     \n",
       "65.447617  65.447617   61.147447   69.732087    65.447617    65.447617   \n",
       "65.460916  65.460916   61.130270   69.727939    65.460916    65.460916   \n",
       "65.474217  65.474217   61.142423   69.843897    65.474217    65.474217   \n",
       "65.487519  65.487519   61.227940   69.848476    65.487519    65.487519   \n",
       "65.500826  65.500826   61.161139   69.704460    65.500826    65.500826   \n",
       "66.130734  66.130734   61.823184   70.425034    66.130734    66.130734   \n",
       "66.180393  66.180393   61.897130   70.481292    66.180393    66.180393   \n",
       "\n",
       "           additive_terms  additive_terms_lower  additive_terms_upper  \\\n",
       "yhat                                                                    \n",
       "65.447617             0.0                   0.0                   0.0   \n",
       "65.460916             0.0                   0.0                   0.0   \n",
       "65.474217             0.0                   0.0                   0.0   \n",
       "65.487519             0.0                   0.0                   0.0   \n",
       "65.500826             0.0                   0.0                   0.0   \n",
       "66.130734             0.0                   0.0                   0.0   \n",
       "66.180393             0.0                   0.0                   0.0   \n",
       "\n",
       "           multiplicative_terms  multiplicative_terms_lower  \\\n",
       "yhat                                                          \n",
       "65.447617                   0.0                         0.0   \n",
       "65.460916                   0.0                         0.0   \n",
       "65.474217                   0.0                         0.0   \n",
       "65.487519                   0.0                         0.0   \n",
       "65.500826                   0.0                         0.0   \n",
       "66.130734                   0.0                         0.0   \n",
       "66.180393                   0.0                         0.0   \n",
       "\n",
       "           multiplicative_terms_upper  \n",
       "yhat                                   \n",
       "65.447617                         0.0  \n",
       "65.460916                         0.0  \n",
       "65.474217                         0.0  \n",
       "65.487519                         0.0  \n",
       "65.500826                         0.0  \n",
       "66.130734                         0.0  \n",
       "66.180393                         0.0  "
      ]
     },
     "execution_count": 237,
     "metadata": {},
     "output_type": "execute_result"
    }
   ],
   "source": [
    "df1.groupby('yhat').median()"
   ]
  },
  {
   "cell_type": "code",
   "execution_count": 238,
   "metadata": {},
   "outputs": [
    {
     "data": {
      "text/html": [
       "<div>\n",
       "<style scoped>\n",
       "    .dataframe tbody tr th:only-of-type {\n",
       "        vertical-align: middle;\n",
       "    }\n",
       "\n",
       "    .dataframe tbody tr th {\n",
       "        vertical-align: top;\n",
       "    }\n",
       "\n",
       "    .dataframe thead th {\n",
       "        text-align: right;\n",
       "    }\n",
       "</style>\n",
       "<table border=\"1\" class=\"dataframe\">\n",
       "  <thead>\n",
       "    <tr style=\"text-align: right;\">\n",
       "      <th></th>\n",
       "      <th>ds</th>\n",
       "      <th>yhat</th>\n",
       "      <th>yhat_lower</th>\n",
       "      <th>yhat_upper</th>\n",
       "    </tr>\n",
       "  </thead>\n",
       "  <tbody>\n",
       "    <tr>\n",
       "      <th>0</th>\n",
       "      <td>2022-08-17 15:11:51.622926</td>\n",
       "      <td>66.130734</td>\n",
       "      <td>61.786959</td>\n",
       "      <td>70.481009</td>\n",
       "    </tr>\n",
       "    <tr>\n",
       "      <th>1</th>\n",
       "      <td>2022-08-17 15:11:51.622926</td>\n",
       "      <td>66.130734</td>\n",
       "      <td>61.794281</td>\n",
       "      <td>70.503192</td>\n",
       "    </tr>\n",
       "    <tr>\n",
       "      <th>2</th>\n",
       "      <td>2022-08-17 15:11:51.622926</td>\n",
       "      <td>66.130734</td>\n",
       "      <td>61.924942</td>\n",
       "      <td>70.094203</td>\n",
       "    </tr>\n",
       "    <tr>\n",
       "      <th>3</th>\n",
       "      <td>2022-08-17 15:11:51.622926</td>\n",
       "      <td>66.130734</td>\n",
       "      <td>61.740655</td>\n",
       "      <td>70.361600</td>\n",
       "    </tr>\n",
       "    <tr>\n",
       "      <th>4</th>\n",
       "      <td>2022-08-17 15:11:51.622926</td>\n",
       "      <td>66.130734</td>\n",
       "      <td>61.776716</td>\n",
       "      <td>70.641909</td>\n",
       "    </tr>\n",
       "    <tr>\n",
       "      <th>...</th>\n",
       "      <td>...</td>\n",
       "      <td>...</td>\n",
       "      <td>...</td>\n",
       "      <td>...</td>\n",
       "    </tr>\n",
       "    <tr>\n",
       "      <th>207</th>\n",
       "      <td>2022-08-17 16:08:00.535406</td>\n",
       "      <td>65.447617</td>\n",
       "      <td>61.016521</td>\n",
       "      <td>69.708521</td>\n",
       "    </tr>\n",
       "    <tr>\n",
       "      <th>208</th>\n",
       "      <td>2022-08-17 16:08:00.535406</td>\n",
       "      <td>65.447617</td>\n",
       "      <td>61.152007</td>\n",
       "      <td>69.842079</td>\n",
       "    </tr>\n",
       "    <tr>\n",
       "      <th>209</th>\n",
       "      <td>2022-08-17 16:08:00.535406</td>\n",
       "      <td>65.447617</td>\n",
       "      <td>61.336353</td>\n",
       "      <td>69.892051</td>\n",
       "    </tr>\n",
       "    <tr>\n",
       "      <th>210</th>\n",
       "      <td>2022-08-17 16:08:00.535406</td>\n",
       "      <td>65.447617</td>\n",
       "      <td>61.223534</td>\n",
       "      <td>69.935110</td>\n",
       "    </tr>\n",
       "    <tr>\n",
       "      <th>211</th>\n",
       "      <td>2022-08-17 16:08:00.535406</td>\n",
       "      <td>65.447617</td>\n",
       "      <td>60.872727</td>\n",
       "      <td>69.735290</td>\n",
       "    </tr>\n",
       "  </tbody>\n",
       "</table>\n",
       "<p>212 rows × 4 columns</p>\n",
       "</div>"
      ],
      "text/plain": [
       "                            ds       yhat  yhat_lower  yhat_upper\n",
       "0   2022-08-17 15:11:51.622926  66.130734   61.786959   70.481009\n",
       "1   2022-08-17 15:11:51.622926  66.130734   61.794281   70.503192\n",
       "2   2022-08-17 15:11:51.622926  66.130734   61.924942   70.094203\n",
       "3   2022-08-17 15:11:51.622926  66.130734   61.740655   70.361600\n",
       "4   2022-08-17 15:11:51.622926  66.130734   61.776716   70.641909\n",
       "..                         ...        ...         ...         ...\n",
       "207 2022-08-17 16:08:00.535406  65.447617   61.016521   69.708521\n",
       "208 2022-08-17 16:08:00.535406  65.447617   61.152007   69.842079\n",
       "209 2022-08-17 16:08:00.535406  65.447617   61.336353   69.892051\n",
       "210 2022-08-17 16:08:00.535406  65.447617   61.223534   69.935110\n",
       "211 2022-08-17 16:08:00.535406  65.447617   60.872727   69.735290\n",
       "\n",
       "[212 rows x 4 columns]"
      ]
     },
     "execution_count": 238,
     "metadata": {},
     "output_type": "execute_result"
    }
   ],
   "source": [
    "previsao1 [['ds', 'yhat', 'yhat_lower', 'yhat_upper']]"
   ]
  },
  {
   "cell_type": "code",
   "execution_count": null,
   "metadata": {},
   "outputs": [],
   "source": [
    "treino1 = Prophet(seasonality_mode='multiplicative')"
   ]
  },
  {
   "cell_type": "code",
   "execution_count": null,
   "metadata": {},
   "outputs": [
    {
     "name": "stderr",
     "output_type": "stream",
     "text": [
      "INFO:prophet:Disabling yearly seasonality. Run prophet with yearly_seasonality=True to override this.\n",
      "INFO:prophet:Disabling weekly seasonality. Run prophet with weekly_seasonality=True to override this.\n",
      "INFO:prophet:Disabling daily seasonality. Run prophet with daily_seasonality=True to override this.\n"
     ]
    },
    {
     "data": {
      "text/plain": [
       "<prophet.forecaster.Prophet at 0x1dae00bfd90>"
      ]
     },
     "execution_count": 122,
     "metadata": {},
     "output_type": "execute_result"
    }
   ],
   "source": [
    "treino1.fit(df_teste_teste)"
   ]
  },
  {
   "cell_type": "code",
   "execution_count": null,
   "metadata": {},
   "outputs": [],
   "source": [
    "futuro = treino1.make_future_dataframe(periods=7)"
   ]
  },
  {
   "cell_type": "code",
   "execution_count": null,
   "metadata": {},
   "outputs": [
    {
     "data": {
      "text/html": [
       "<div>\n",
       "<style scoped>\n",
       "    .dataframe tbody tr th:only-of-type {\n",
       "        vertical-align: middle;\n",
       "    }\n",
       "\n",
       "    .dataframe tbody tr th {\n",
       "        vertical-align: top;\n",
       "    }\n",
       "\n",
       "    .dataframe thead th {\n",
       "        text-align: right;\n",
       "    }\n",
       "</style>\n",
       "<table border=\"1\" class=\"dataframe\">\n",
       "  <thead>\n",
       "    <tr style=\"text-align: right;\">\n",
       "      <th></th>\n",
       "      <th>ds</th>\n",
       "    </tr>\n",
       "  </thead>\n",
       "  <tbody>\n",
       "    <tr>\n",
       "      <th>9</th>\n",
       "      <td>2022-08-20 16:08:00.535406</td>\n",
       "    </tr>\n",
       "    <tr>\n",
       "      <th>10</th>\n",
       "      <td>2022-08-21 16:08:00.535406</td>\n",
       "    </tr>\n",
       "    <tr>\n",
       "      <th>11</th>\n",
       "      <td>2022-08-22 16:08:00.535406</td>\n",
       "    </tr>\n",
       "    <tr>\n",
       "      <th>12</th>\n",
       "      <td>2022-08-23 16:08:00.535406</td>\n",
       "    </tr>\n",
       "    <tr>\n",
       "      <th>13</th>\n",
       "      <td>2022-08-24 16:08:00.535406</td>\n",
       "    </tr>\n",
       "  </tbody>\n",
       "</table>\n",
       "</div>"
      ],
      "text/plain": [
       "                           ds\n",
       "9  2022-08-20 16:08:00.535406\n",
       "10 2022-08-21 16:08:00.535406\n",
       "11 2022-08-22 16:08:00.535406\n",
       "12 2022-08-23 16:08:00.535406\n",
       "13 2022-08-24 16:08:00.535406"
      ]
     },
     "execution_count": 124,
     "metadata": {},
     "output_type": "execute_result"
    }
   ],
   "source": [
    "futuro.tail()"
   ]
  },
  {
   "cell_type": "code",
   "execution_count": null,
   "metadata": {},
   "outputs": [],
   "source": []
  },
  {
   "cell_type": "code",
   "execution_count": null,
   "metadata": {},
   "outputs": [],
   "source": []
  },
  {
   "cell_type": "code",
   "execution_count": null,
   "metadata": {},
   "outputs": [],
   "source": []
  },
  {
   "cell_type": "code",
   "execution_count": null,
   "metadata": {},
   "outputs": [],
   "source": []
  },
  {
   "cell_type": "code",
   "execution_count": null,
   "metadata": {},
   "outputs": [],
   "source": []
  },
  {
   "cell_type": "code",
   "execution_count": null,
   "metadata": {},
   "outputs": [],
   "source": []
  },
  {
   "cell_type": "code",
   "execution_count": null,
   "metadata": {},
   "outputs": [],
   "source": []
  },
  {
   "cell_type": "code",
   "execution_count": null,
   "metadata": {},
   "outputs": [],
   "source": []
  }
 ],
 "metadata": {
  "interpreter": {
   "hash": "6f30137c53c098ed163066a38d0173cf27535ff189a52f3e9e0a7321b2dfa400"
  },
  "kernelspec": {
   "display_name": "Python 3.9.12 ('base')",
   "language": "python",
   "name": "python3"
  },
  "language_info": {
   "codemirror_mode": {
    "name": "ipython",
    "version": 3
   },
   "file_extension": ".py",
   "mimetype": "text/x-python",
   "name": "python",
   "nbconvert_exporter": "python",
   "pygments_lexer": "ipython3",
   "version": "3.9.12"
  },
  "orig_nbformat": 4
 },
 "nbformat": 4,
 "nbformat_minor": 2
}
