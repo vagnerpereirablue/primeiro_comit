{
  "nbformat": 4,
  "nbformat_minor": 0,
  "metadata": {
    "colab": {
      "provenance": [],
      "authorship_tag": "ABX9TyN6DW/gCVqY+tMFyPvnmnUJ",
      "include_colab_link": true
    },
    "kernelspec": {
      "name": "python3",
      "display_name": "Python 3"
    },
    "language_info": {
      "name": "python"
    }
  },
  "cells": [
    {
      "cell_type": "markdown",
      "metadata": {
        "id": "view-in-github",
        "colab_type": "text"
      },
      "source": [
        "<a href=\"https://colab.research.google.com/github/vagnerpereirablue/primeiro_comit/blob/main/testegit.ipynb\" target=\"_parent\"><img src=\"https://colab.research.google.com/assets/colab-badge.svg\" alt=\"Open In Colab\"/></a>"
      ]
    },
    {
      "cell_type": "markdown",
      "source": [
        "### Script que imprime na tela um tabuada escolhida pelo o Usuario "
      ],
      "metadata": {
        "id": "_HJR4yAA0CMJ"
      }
    },
    {
      "cell_type": "code",
      "source": [
        "# Solicita o número da tabuada ao usuário\n",
        "num = int(input(\"Qual número você quer ver a tabuada? \"))\n",
        "\n",
        "# Usa um laço de repetição para percorrer os números de 1 a 10\n",
        "for i in range(1, 11):\n",
        "   print(f\"{num} x {i} = {num * i}\")\n"
      ],
      "metadata": {
        "colab": {
          "base_uri": "https://localhost:8080/"
        },
        "id": "wBsfYhPm0PVf",
        "outputId": "3e48f4fb-37cb-4774-a40b-4fe41281ab11"
      },
      "execution_count": 1,
      "outputs": [
        {
          "output_type": "stream",
          "name": "stdout",
          "text": [
            "Qual número você quer ver a tabuada? 8\n",
            "8 x 1 = 8\n",
            "8 x 2 = 16\n",
            "8 x 3 = 24\n",
            "8 x 4 = 32\n",
            "8 x 5 = 40\n",
            "8 x 6 = 48\n",
            "8 x 7 = 56\n",
            "8 x 8 = 64\n",
            "8 x 9 = 72\n",
            "8 x 10 = 80\n"
          ]
        }
      ]
    }
  ]
}